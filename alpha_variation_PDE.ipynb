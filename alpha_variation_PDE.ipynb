{
 "cells": [
  {
   "cell_type": "code",
   "execution_count": 2,
   "id": "7ceeac03",
   "metadata": {},
   "outputs": [],
   "source": [
    "import numpy as np\n",
    "import math\n",
    "from scipy.integrate import simpson, solve_ivp\n",
    "import matplotlib.pyplot as plt"
   ]
  },
  {
   "cell_type": "code",
   "execution_count": 6,
   "id": "705aa828",
   "metadata": {},
   "outputs": [],
   "source": [
    "#model for the scalar field\n",
    "def model(z,y,H0,Omega_m,omega,zeta,m):\n",
    "    #initial values\n",
    "    psi = y[0]\n",
    "    u = y[1]\n",
    "    #unitless Hubble parameter\n",
    "    gz=g(f,Omega_m,z)\n",
    "    #differenetial equation for psi\n",
    "    psiprime = -(u/((1+z)*gz))\n",
    "    #differential equation for u\n",
    "    uprime = (1/(1+z)) * ((6/((omega)*gz))* Omega_m * f * math.exp(-2*psi) * zeta + 3 * u + (m**2 * psi)/gz)\n",
    "    #return all results\n",
    "    F_prime = [psiprime,uprime]\n",
    "    return F_prime\n",
    "\n",
    "#Unitless Hubble parameter\n",
    "def g(psi,u,Omega_m,omega,zeta,z):\n",
    "    #cosmological constant\n",
    "    Omega_l = 1-Omega_m-Omega_r\n",
    "    #matter\n",
    "    mass_term=(Omega_m*(1+z)**3)*(1+abs(zeta)*np.exp(-2*psi))\n",
    "    #scalar field\n",
    "    psi_term=(1/6)*(omega)*(u**2)\n",
    "    #radiation\n",
    "    rad_term=(Omega_r)*np.exp(-2*psi)*(1+z)**4\n",
    "    gz=np.sqrt(mass_term+psi_term+rad_term+Omega_l)\n",
    "    return gz"
   ]
  },
  {
   "cell_type": "code",
   "execution_count": 7,
   "id": "5c116576",
   "metadata": {},
   "outputs": [],
   "source": [
    "#function for Delta alpha/alpha\n",
    "def Delta_alpha_over_alpha(psi):\n",
    "    Delta_alpha_over_alpha=np.exp(2*psi)-1\n",
    "    return Delta_alpha_over_alpha"
   ]
  },
  {
   "cell_type": "code",
   "execution_count": 15,
   "id": "94862173",
   "metadata": {},
   "outputs": [
    {
     "data": {
      "image/png": "[encoded data removed]",
      "text/plain": [
       "<Figure size 432x288 with 1 Axes>"
      ]
     },
     "metadata": {
      "needs_background": "light"
     },
     "output_type": "display_data"
    }
   ],
   "source": [
    "#radiation density\n",
    "Omega_r = 5.44e-5\n",
    "#maximum redshift to integrate to\n",
    "z_max=3000\n",
    "#redshift of the surface of last scattering\n",
    "z_recomb = 1089.80\n",
    "#list of redshifts to plot\n",
    "z_list=np.linspace(0,z_max,10000)\n",
    "#parameters of the model\n",
    "H0 = 67.4\n",
    "Omega_m = 0.315\n",
    "omega = 1\n",
    "zeta=1e-7\n",
    "m = 0\n",
    "arglist = (H0, Omega_m, omega, zeta, m)\n",
    "\n",
    "#initial values\n",
    "F0 = [0,0]\n",
    "\n",
    "#solve the system\n",
    "F = solve_ivp(model_noncon, [0,z_max], F0, args=arglist, dense_output=True)\n",
    "#solve for psi\n",
    "psi_list = F.sol(z_list)[0]\n",
    "\n",
    "#plot\n",
    "plt.figure()\n",
    "plt.plot(z_list,psi_list,label=\"$\\psi$\",linewidth=3)\n",
    "#vertical line at the surface of last scattering\n",
    "plt.vlines(z_recomb,np.nanmin(psi_list),np.nanmax(psi_list),'k',linestyle=':',linewidth=5, label=\"Surface of Last Scattering\")\n",
    "plt.xlabel(r\"Redshift (z)\")\n",
    "plt.ylabel(r\"$\\psi$\")\n",
    "plt.xscale(\"log\")\n",
    "plt.legend()\n",
    "plt.tight_layout()\n",
    "plt.show()"
   ]
  },
  {
   "cell_type": "code",
   "execution_count": null,
   "id": "b3431c06",
   "metadata": {},
   "outputs": [],
   "source": []
  }
 ],
 "metadata": {
  "kernelspec": {
   "display_name": "python3.7.7",
   "language": "python",
   "name": "python3.7.7"
  },
  "language_info": {
   "codemirror_mode": {
    "name": "ipython",
    "version": 3
   },
   "file_extension": ".py",
   "mimetype": "text/x-python",
   "name": "python",
   "nbconvert_exporter": "python",
   "pygments_lexer": "ipython3",
   "version": "3.7.7"
  }
 },
 "nbformat": 4,
 "nbformat_minor": 5
}
